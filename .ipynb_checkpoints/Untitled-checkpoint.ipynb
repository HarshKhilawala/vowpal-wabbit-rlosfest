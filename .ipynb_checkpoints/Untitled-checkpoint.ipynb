{
 "cells": [
  {
   "cell_type": "code",
   "execution_count": 1,
   "id": "constitutional-hudson",
   "metadata": {},
   "outputs": [
    {
     "name": "stdout",
     "output_type": "stream",
     "text": [
      "Requirement already satisfied: vowpalwabbit in c:\\users\\harsh khilawala\\anaconda-3\\anaconda3\\lib\\site-packages (8.9.0)\n"
     ]
    }
   ],
   "source": [
    "!pip install vowpalwabbit"
   ]
  },
  {
   "cell_type": "code",
   "execution_count": 15,
   "id": "composed-inclusion",
   "metadata": {},
   "outputs": [],
   "source": [
    "import random\n",
    "import matplotlib.pyplot as plt\n",
    "from vowpalwabbit import pyvw"
   ]
  },
  {
   "cell_type": "code",
   "execution_count": 16,
   "id": "dependent-activity",
   "metadata": {},
   "outputs": [],
   "source": [
    "# VW tries to minimize the cost/loss, therefore we will pass cost as -reward.\n",
    "USER_LIKED_ARTICLE = -1.0\n",
    "USER_DISLIKED_ARTICLE = 0.0"
   ]
  },
  {
   "cell_type": "code",
   "execution_count": 17,
   "id": "anonymous-console",
   "metadata": {},
   "outputs": [],
   "source": [
    "# Cost Function\n",
    "def get_cost(context,action):\n",
    "    if context[\"user\"]==\"Tom\":\n",
    "        if context[\"time_of_day\"] == \"morning\" and action == \"politics\":\n",
    "            return USER_LIKED_ARTICLE\n",
    "        elif context[\"time_of_day\"] == \"afternoon\" and action == \"music\":\n",
    "            return USER_LIKED_ARTICLE\n",
    "        else:\n",
    "            return USER_DISLIKED_ARTICLE\n",
    "    elif context[\"user\"]==\"Anna\":\n",
    "        if context[\"time_of_day\"] == \"morning\" and action == \"sports\":\n",
    "            return USER_LIKED_ARTICLE\n",
    "        elif context[\"time_of_day\"]== \"afternoon\" and action == \"politics\":\n",
    "            return USER_LIKED_ARTICLE\n",
    "        else:\n",
    "            return USER_DISLIKED_ARTICLE"
   ]
  },
  {
   "cell_type": "code",
   "execution_count": 18,
   "id": "exempt-equality",
   "metadata": {},
   "outputs": [],
   "source": [
    "def to_vw_example_format(context,actions, cb_label=None):\n",
    "    if cb_label is not None:\n",
    "        chosen_action, cost, prob = cb_label\n",
    "    example_string = \"\"\n",
    "    example_string += \"shared |User user={} time_of_day={}\\n\".format(context[\"user\"],context[\"time_of_day\"])\n",
    "    for action in actions:\n",
    "        if cb_label is not None and action == chosen_action:\n",
    "            example_string+= \"0:{}:{} \".format(cost, prob)\n",
    "        example_string+= \"|Action article={} \\n\".format(action)\n",
    "    return example_string[:-1]"
   ]
  },
  {
   "cell_type": "code",
   "execution_count": 19,
   "id": "expensive-carroll",
   "metadata": {},
   "outputs": [
    {
     "name": "stdout",
     "output_type": "stream",
     "text": [
      "shared |User user=Tom time_of_day=morning\n",
      "|Action article=politics \n",
      "|Action article=sports \n",
      "|Action article=music \n",
      "|Action article=food \n"
     ]
    }
   ],
   "source": [
    "context = {\"user\":\"Tom\", \"time_of_day\":\"morning\"}\n",
    "actions = [\"politics\",\"sports\",\"music\",\"food\"]\n",
    "\n",
    "print(to_vw_example_format(context,actions))"
   ]
  },
  {
   "cell_type": "code",
   "execution_count": 20,
   "id": "above-external",
   "metadata": {},
   "outputs": [],
   "source": [
    "def sample_custom_pmf(pmf):\n",
    "    total = sum(pmf)\n",
    "    scale = 1/total\n",
    "    pmf = [x * scale for x in pmf]\n",
    "    draw = random.random()\n",
    "    sum_prob = 0.0\n",
    "    for index, prob in enumerate(pmf):\n",
    "        sum_prob += prob\n",
    "        if (sum_prob > draw):\n",
    "            return index,prob"
   ]
  },
  {
   "cell_type": "code",
   "execution_count": 21,
   "id": "daily-surface",
   "metadata": {},
   "outputs": [],
   "source": [
    "def get_action(vw, context , actions):\n",
    "    vw_text_example = to_vw_example_format(context,actions)\n",
    "    pmf = vw.predict(vw_text_example)\n",
    "    chosen_action_index, prob = sample_custom_pmf(pmf)\n",
    "    return actions[chosen_action_index],prob"
   ]
  },
  {
   "cell_type": "code",
   "execution_count": 22,
   "id": "binary-delhi",
   "metadata": {},
   "outputs": [],
   "source": [
    "users = [\"Tom\", \"Anna\"]\n",
    "times_of_day = [\"morning\",\"afternoon\"]\n",
    "actions = [\"politics\",\"sports\",\"music\",\"food\",\"finance\",\"health\", \"camping\"]\n",
    "\n",
    "def choose_user(users):\n",
    "    return random.choice(users)\n",
    "\n",
    "def choose_time_of_day(times_of_day):\n",
    "    return random.choice(times_of_day)"
   ]
  },
  {
   "cell_type": "code",
   "execution_count": 23,
   "id": "nominated-shower",
   "metadata": {},
   "outputs": [],
   "source": [
    "def run_simulation(vw, num_iterations, users, times_of_day, actions, cost_function, do_learn=True):\n",
    "    cost_sum = 0.\n",
    "    ctr = []\n",
    "    \n",
    "    for i in range(1,num_iterations+1):\n",
    "        #1. In each simulation, choose a user\n",
    "        user = choose_user(users)\n",
    "        #2. Choose time of the day for the given user\n",
    "        time_of_day = choose_time_of_day(times_of_day)\n",
    "        \n",
    "        #3. Passing context to vw to get an action\n",
    "        context = {\"user\":user, \"time_of_day\": time_of_day}\n",
    "        action, prob = get_action(vw, context,actions)\n",
    "        cost = cost_function(context,action)\n",
    "        cost_sum += cost\n",
    "        \n",
    "        if do_learn:\n",
    "            vw_format = vw.parse(to_vw_example_format(context,actions,(action,cost,prob)),pyvw.vw.lContextualBandit)\n",
    "            vw.learn(vw_format)\n",
    "        ctr.append(-1*cost_sum/i)\n",
    "    return ctr"
   ]
  },
  {
   "cell_type": "code",
   "execution_count": 24,
   "id": "convinced-darwin",
   "metadata": {},
   "outputs": [],
   "source": [
    "def plot_ctr(num_iterations,ctr):\n",
    "    plt.plot(range(1,num_iterations+1),ctr)\n",
    "    plt.xlabel('num_iterations',fontsize=14)\n",
    "    plt.ylabel('ctr',fontsize=14)\n",
    "    plt.ylim([0,1])"
   ]
  },
  {
   "cell_type": "code",
   "execution_count": 25,
   "id": "dominican-lending",
   "metadata": {},
   "outputs": [
    {
     "data": {
      "image/png": "[encoded data removed]",
      "text/plain": [
       "<Figure size 432x288 with 1 Axes>"
      ]
     },
     "metadata": {
      "needs_background": "light"
     },
     "output_type": "display_data"
    }
   ],
   "source": [
    "vw = pyvw.vw(\"--cb_explore_adf -q UA --quiet --epsilon 0.2\")\n",
    "num_iterations = 5000\n",
    "ctr = run_simulation(vw, num_iterations, users, times_of_day, actions, get_cost, True)\n",
    "plot_ctr(num_iterations,ctr)"
   ]
  },
  {
   "cell_type": "code",
   "execution_count": 26,
   "id": "broadband-white",
   "metadata": {},
   "outputs": [
    {
     "data": {
      "image/png": "[encoded data removed]",
      "text/plain": [
       "<Figure size 432x288 with 1 Axes>"
      ]
     },
     "metadata": {
      "needs_background": "light"
     },
     "output_type": "display_data"
    }
   ],
   "source": [
    "vw = pyvw.vw(\"--cb_explore_adf --quiet --epsilon 0.2\")\n",
    "num_iterations = 5000\n",
    "ctr = run_simulation(vw, num_iterations, users, times_of_day, actions, get_cost, True)\n",
    "plot_ctr(num_iterations,ctr)"
   ]
  },
  {
   "cell_type": "code",
   "execution_count": 27,
   "id": "renewable-compact",
   "metadata": {},
   "outputs": [
    {
     "data": {
      "image/png": "[encoded data removed]",
      "text/plain": [
       "<Figure size 432x288 with 1 Axes>"
      ]
     },
     "metadata": {
      "needs_background": "light"
     },
     "output_type": "display_data"
    }
   ],
   "source": [
    "vw = pyvw.vw(\"--cb_explore_adf -q UA --quiet --epsilon 0.2\")\n",
    "num_iterations = 5000\n",
    "ctr = run_simulation(vw, num_iterations, users, times_of_day, actions, get_cost, do_learn=False)\n",
    "plot_ctr(num_iterations,ctr)"
   ]
  },
  {
   "cell_type": "code",
   "execution_count": null,
   "id": "automated-strategy",
   "metadata": {},
   "outputs": [],
   "source": []
  },
  {
   "cell_type": "code",
   "execution_count": null,
   "id": "alone-browser",
   "metadata": {},
   "outputs": [],
   "source": []
  }
 ],
 "metadata": {
  "kernelspec": {
   "display_name": "Python 3",
   "language": "python",
   "name": "python3"
  },
  "language_info": {
   "codemirror_mode": {
    "name": "ipython",
    "version": 3
   },
   "file_extension": ".py",
   "mimetype": "text/x-python",
   "name": "python",
   "nbconvert_exporter": "python",
   "pygments_lexer": "ipython3",
   "version": "3.8.5"
  }
 },
 "nbformat": 4,
 "nbformat_minor": 5
}
